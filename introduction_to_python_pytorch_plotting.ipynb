{
  "nbformat": 4,
  "nbformat_minor": 0,
  "metadata": {
    "colab": {
      "name": "introduction_to_python_pytorch_plotting.ipynb",
      "provenance": [],
      "collapsed_sections": [
        "rWfIVZM2lfN3",
        "o4ldSPEqDBc-",
        "_ITMycMNDHak",
        "u1_6N2beDN-6",
        "NDEnWVZ4DgGu"
      ],
      "include_colab_link": true
    },
    "kernelspec": {
      "name": "python3",
      "display_name": "Python 3"
    },
    "accelerator": "GPU"
  },
  "cells": [
    {
      "cell_type": "markdown",
      "metadata": {
        "id": "view-in-github",
        "colab_type": "text"
      },
      "source": [
        "<a href=\"https://colab.research.google.com/github/KBLin1996/Advertise_Click_Prediction/blob/master/introduction_to_python_pytorch_plotting.ipynb\" target=\"_parent\"><img src=\"https://colab.research.google.com/assets/colab-badge.svg\" alt=\"Open In Colab\"/></a>"
      ]
    },
    {
      "cell_type": "markdown",
      "metadata": {
        "id": "zcC_8S5ukVBj"
      },
      "source": [
        "## **Python, Pytorch and Plotting**\n",
        "\n",
        "In our class we will be using Google Colab / Jupyter notebooks and python for the assignments so it is important to be confident with both ahead of time. We will additionally be using a matrix (tensor) manipulation library similar to numpy called pytorch. We will learn during the class why pytorch is much more than a matrix maninpulation package but for the purposes of this tutorial we will just use it as a convenient tool for array/matrix/tensor manipulation."
      ]
    },
    {
      "cell_type": "code",
      "metadata": {
        "id": "PvsdeMU8kYSL"
      },
      "source": [
        "import torch  # This imports the torch library.\n",
        "import matplotlib\n",
        "import matplotlib.pyplot as plt  # This is python's popular plotting library."
      ],
      "execution_count": null,
      "outputs": []
    },
    {
      "cell_type": "markdown",
      "metadata": {
        "id": "rWfIVZM2lfN3"
      },
      "source": [
        "### **1. Creating, Indexing, and Displaying 2D Tensors (Matrices)**\n",
        "The main data structure you have to get yourself familiar during this course is the pytorch Tensor, or put simply, a multidimensional array. We will create here a few tensors, manipulate them and display them. The indexing operations inside a tensor in pytorch is similar to indexing in numpy."
      ]
    },
    {
      "cell_type": "code",
      "metadata": {
        "id": "XlT6TZb8krYG",
        "outputId": "7c1dc87b-0767-4f1b-f37c-d4ce982cd76a",
        "colab": {
          "base_uri": "https://localhost:8080/",
          "height": 269
        }
      },
      "source": [
        "myTensor = torch.zeros(7, 7, dtype=torch.float)\n",
        "myTensor[:, :] = 0   # Assign zeros everywhere in the matrix.\n",
        "myTensor[3, 3] = 1   # Assign one in position 3, 3\n",
        "myTensor[:2, :] = 1   # Assign ones on the top 2 rows.\n",
        "myTensor[-2:, :] = 1    # Assign ones on the bottom 2 rows.\n",
        "\n",
        "# Show the tensor.\n",
        "def showTensor(aTensor):\n",
        "    matplotlib.rc('image', cmap = 'viridis') # Colorful colormap.\n",
        "    plt.figure()\n",
        "    plt.imshow(aTensor)\n",
        "    plt.colorbar()\n",
        "    plt.grid('off')\n",
        "    plt.show()\n",
        "    \n",
        "showTensor(myTensor)"
      ],
      "execution_count": null,
      "outputs": [
        {
          "output_type": "display_data",
          "data": {
            "image/png": "[encoded data removed]",
            "text/plain": [
              "<Figure size 432x288 with 2 Axes>"
            ]
          },
          "metadata": {
            "needs_background": "light"
          }
        }
      ]
    },
    {
      "cell_type": "markdown",
      "metadata": {
        "id": "YouRIlcXnOAH"
      },
      "source": [
        "If you are familiar with numpy indexing then everything above should look familiar. We can access and modify the tensor using indexing of single elements myTensor[index1, index2], or ranges of indices myTensor[index1_1 : index1_2, index2_1 : index2_2]. Notice that the indices could contain positive or negative values, where negative values index counting from end to beginning. Also notice that we can convert a pytorch tensor to a numpy array easily using the .numpy() method.\n",
        "\n",
        "**Exercise: ** Use indexing operations to generate the following patterns:\n",
        "\n",
        "![alt text](http://www.cs.virginia.edu/~vicente/recognition/notebooks/plt3.png)\n",
        "![alt text](http://www.cs.virginia.edu/~vicente/recognition/notebooks/plt1.png)\n",
        "![alt text](http://www.cs.virginia.edu/~vicente/recognition/notebooks/plt2.png)\n",
        "\n",
        "I also strongly recommend you to look over the definitions of the index(), index_add_(), index_fill(), index_fill_(), index_copy_(), index_select(), scatter_(), and gather() operations, as you will see them in other people's code, and maybe you will find them useful for your own projects.\n",
        "\n"
      ]
    },
    {
      "cell_type": "markdown",
      "source": [
        "### **2. Reshaping, Slicing, and Cloning Tensors.**\n",
        "We will also be often needing to extract subsections of a tensor or reshaping the tensor in different ways. Here are examples for a couple of useful operations."
      ],
      "metadata": {
        "id": "o4ldSPEqDBc-"
      }
    },
    {
      "cell_type": "code",
      "metadata": {
        "id": "3xxn_iDBl2WY",
        "outputId": "96eaa14e-f528-4e9e-e8d4-86ff8047ae1a",
        "colab": {
          "base_uri": "https://localhost:8080/"
        }
      },
      "source": [
        "# This creates one-dimensional tensor (array)\n",
        "myTensor = torch.tensor([1, 2, 3, 4], dtype=torch.float)\n",
        "print(myTensor)\n",
        "print(myTensor.size())"
      ],
      "execution_count": null,
      "outputs": [
        {
          "output_type": "stream",
          "name": "stdout",
          "text": [
            "tensor([1., 2., 3., 4.])\n",
            "torch.Size([4])\n"
          ]
        }
      ]
    },
    {
      "cell_type": "code",
      "metadata": {
        "id": "TJHHQLAoon6t",
        "outputId": "eadc7141-f62e-4cc4-e180-03e649213180",
        "colab": {
          "base_uri": "https://localhost:8080/"
        }
      },
      "source": [
        "# This copies the one-dimensional array 5 times on dimension 1\n",
        "extendedTensor = myTensor.repeat(5, 1)\n",
        "print(extendedTensor)\n",
        "print(extendedTensor.size())"
      ],
      "execution_count": null,
      "outputs": [
        {
          "output_type": "stream",
          "name": "stdout",
          "text": [
            "tensor([[1., 2., 3., 4.],\n",
            "        [1., 2., 3., 4.],\n",
            "        [1., 2., 3., 4.],\n",
            "        [1., 2., 3., 4.],\n",
            "        [1., 2., 3., 4.]])\n",
            "torch.Size([5, 4])\n"
          ]
        }
      ]
    },
    {
      "cell_type": "code",
      "metadata": {
        "id": "51P4ZRVLoxeo",
        "outputId": "3e7963bb-4222-4eab-df61-fc6569103b47",
        "colab": {
          "base_uri": "https://localhost:8080/"
        }
      },
      "source": [
        "slicedTensor = extendedTensor[3, :]\n",
        "slicedTensor[:] = 5\n",
        "print(slicedTensor)\n",
        "print(slicedTensor.size())\n",
        "print(extendedTensor)"
      ],
      "execution_count": null,
      "outputs": [
        {
          "output_type": "stream",
          "name": "stdout",
          "text": [
            "tensor([5., 5., 5., 5.])\n",
            "torch.Size([4])\n",
            "tensor([[1., 2., 3., 4.],\n",
            "        [1., 2., 3., 4.],\n",
            "        [1., 2., 3., 4.],\n",
            "        [5., 5., 5., 5.],\n",
            "        [1., 2., 3., 4.]])\n"
          ]
        }
      ]
    },
    {
      "cell_type": "markdown",
      "metadata": {
        "id": "lyGZwW19pEJA"
      },
      "source": [
        "Notice how in the above example the slicedTensor still points to the original content of extendedTensor, modifying its values also modifies the contents in extendedTensor. If you wanted to rather create a copy of the values in the slice you can always use the .clone() method.\n",
        "\n",
        "You can review other tensor operations in pytorch's documentation here: http://pytorch.org/docs/master/tensors.html\n",
        "\n",
        "Other functions I often find useful besides repeat(), and clone(), are: view(), squeeze(), unsqueeze(), transpose(), and permute().\n",
        "\n",
        "**Excercise:** Run some examples to see what view(), squeeze(), unsqueeze(), transpose(), and permute() can do for you.\n"
      ]
    },
    {
      "cell_type": "markdown",
      "source": [
        "### **3. Tensor Operations**\n",
        "Basic tensor operations include scalar, tensor multiplication, and addition. It also includes element-wise tensor-tensor operations, and other operations that might be specific to 2D tensors (matrices) such as matrix-matrix multiplication. Two things to notice 1) Basic operators have been overloaded so sometimes it is not needed to explicitly call a torch function 2) Many torch operations have an in-place version that operates in the same space of an input tensor as opposed to returning a new one, we show some examples below:"
      ],
      "metadata": {
        "id": "_ITMycMNDHak"
      }
    },
    {
      "cell_type": "code",
      "metadata": {
        "id": "HMtJcJX5o1xT",
        "outputId": "13704d0e-868c-4554-939b-b7ce3b006c7f",
        "colab": {
          "base_uri": "https://localhost:8080/"
        }
      },
      "source": [
        "# Adding a scalar to a tensor:\n",
        "inputTensor = torch.Tensor([[1, 2], [3, 4]])\n",
        "print(inputTensor.add(1))\n",
        "print(inputTensor)"
      ],
      "execution_count": null,
      "outputs": [
        {
          "output_type": "stream",
          "name": "stdout",
          "text": [
            "tensor([[2., 3.],\n",
            "        [4., 5.]])\n",
            "tensor([[1., 2.],\n",
            "        [3., 4.]])\n"
          ]
        }
      ]
    },
    {
      "cell_type": "code",
      "metadata": {
        "id": "7rbj0R4upYYS",
        "outputId": "729e1f59-3b74-4a5d-86d4-4e8cec84e866",
        "colab": {
          "base_uri": "https://localhost:8080/"
        }
      },
      "source": [
        "# Adding a scalar to a tensor (in-place):\n",
        "inputTensor = torch.Tensor([[1, 2], [3, 4]])\n",
        "# In-place operations usually are followed by underscore _\n",
        "print(inputTensor.add_(1))  \n",
        "print(inputTensor)"
      ],
      "execution_count": null,
      "outputs": [
        {
          "output_type": "stream",
          "name": "stdout",
          "text": [
            "tensor([[2., 3.],\n",
            "        [4., 5.]])\n",
            "tensor([[2., 3.],\n",
            "        [4., 5.]])\n"
          ]
        }
      ]
    },
    {
      "cell_type": "markdown",
      "metadata": {
        "id": "LTelScnCpnTT"
      },
      "source": [
        "The above code should show the difference between in-place operations, similarly there are mul(), and div() methods.\n",
        "\n",
        "The following code shows tensor-tensor operations."
      ]
    },
    {
      "cell_type": "code",
      "metadata": {
        "id": "DRsasEiXpe-o",
        "outputId": "367d881c-e13b-4038-cfad-91ba9aa88732",
        "colab": {
          "base_uri": "https://localhost:8080/"
        }
      },
      "source": [
        "myTensor1 = torch.zeros(3, 2, 2).fill_(2)\n",
        "myTensor2 = torch.zeros(3, 2, 2).fill_(3)\n",
        "print(myTensor1 + myTensor2)\n",
        "print(myTensor1 * myTensor2)\n",
        "# .addcmul(c, a, b) performs c + a .* b (Where .* means element-wise multiplication)\n",
        "print(torch.addcmul(myTensor1, myTensor1, myTensor2))"
      ],
      "execution_count": null,
      "outputs": [
        {
          "output_type": "stream",
          "name": "stdout",
          "text": [
            "tensor([[[5., 5.],\n",
            "         [5., 5.]],\n",
            "\n",
            "        [[5., 5.],\n",
            "         [5., 5.]],\n",
            "\n",
            "        [[5., 5.],\n",
            "         [5., 5.]]])\n",
            "tensor([[[6., 6.],\n",
            "         [6., 6.]],\n",
            "\n",
            "        [[6., 6.],\n",
            "         [6., 6.]],\n",
            "\n",
            "        [[6., 6.],\n",
            "         [6., 6.]]])\n",
            "tensor([[[8., 8.],\n",
            "         [8., 8.]],\n",
            "\n",
            "        [[8., 8.],\n",
            "         [8., 8.]],\n",
            "\n",
            "        [[8., 8.],\n",
            "         [8., 8.]]])\n"
          ]
        }
      ]
    },
    {
      "cell_type": "markdown",
      "metadata": {
        "id": "z_7cqlfxqG9A"
      },
      "source": [
        "Other useful tensor-tensor operations are addcmul_() [in place version of addcmul()], matmul() (tensor-tensor multiplication), mm() (matrix multiplication), mv() (matrix-vector multiplication)."
      ]
    },
    {
      "cell_type": "markdown",
      "source": [
        "### **4. GPU Computing**\n",
        "A powerful feature of Pytorch is that we can run operations on the GPU simply by first moving matrices or vectors (tensors) in and out of GPU memory. See example below."
      ],
      "metadata": {
        "id": "u1_6N2beDN-6"
      }
    },
    {
      "cell_type": "code",
      "source": [
        "import torch\n",
        "import time\n",
        "\n",
        "deviceGPU = torch.device('cuda')\n",
        "\n",
        "# Let's create two matrices of size dxd and full of random values.\n",
        "d = 5000\n",
        "a = torch.rand(d, d)\n",
        "b = torch.rand(d, d)\n",
        "\n",
        "# Compute a multiplication between the two matrices in CPU.\n",
        "start_time = time.time()\n",
        "output = torch.mm(a,b)  # Regular multiplication in CPU.\n",
        "cpu_time = time.time() - start_time\n",
        "print('CPU-time {0:.6f}s'.format(cpu_time))\n",
        "\n",
        "# Compute a multiplication between the two matrices in GPU.\n",
        "start_time = time.time()\n",
        "a = a.to(deviceGPU) # Move to GPU.\n",
        "b = b.to(deviceGPU) # Move to GPU.\n",
        "output = torch.mm(a,b)  # Multiplication happens in GPU.\n",
        "gpu_time = time.time() - start_time\n",
        "print('GPU-time {0:.6f}s\\n'.format(gpu_time))\n",
        "\n",
        "print('CPU was {0:.2f}x times the GPU time'.format(cpu_time / gpu_time))"
      ],
      "metadata": {
        "colab": {
          "base_uri": "https://localhost:8080/"
        },
        "id": "x_yCQgOgDQXk",
        "outputId": "fcd28a88-0c6b-47f9-f292-04afa44bb811"
      },
      "execution_count": null,
      "outputs": [
        {
          "output_type": "stream",
          "name": "stdout",
          "text": [
            "CPU-time 3.119798s\n",
            "GPU-time 0.045453s\n",
            "\n",
            "CPU was 68.64x times the GPU time\n"
          ]
        }
      ]
    },
    {
      "cell_type": "markdown",
      "source": [
        "**Note:** Please take note that when you run the code above for the first time, it might be the case that the GPU code runs surprisingly slower than the CPU code. This can happen because the first time you run this code you pay some penalty for \"warming up\" the GPU. However on subsequent runs you will see how significantly faster is the GPU computation time compared to CPU computation time e.g. 64x times faster."
      ],
      "metadata": {
        "id": "NKkSP1E7JEhT"
      }
    },
    {
      "cell_type": "markdown",
      "source": [
        "### **5. Gradient Computations**\n",
        "Another powerful feature of Pytorch is that it keeps track of the operations being performed on tensors e.g. a torch.tensor stores the operations that have been applied to it so that we can execute gradient computations in the reverse order of the operations following the chain rule of calculus. This is often called automatic differentation (autodiff). Here we demonstrate this feature."
      ],
      "metadata": {
        "id": "NDEnWVZ4DgGu"
      }
    },
    {
      "cell_type": "markdown",
      "source": [
        "For instance consider the following function.\n",
        "\n",
        "$$f(X, Y) = (x_1 - y_1)^2  + (x_2 - y_2)^2$$,\n",
        "\n",
        "where $X = [x_1, x_2]$ and $Y = [y_1, y_2]$. Now, let's say we're interested in computing $\\partial f / \\partial X = [\\frac{\\partial f}{\\partial x_1}, \\frac{\\partial f}{\\partial x_2}]$ and $\\partial f / \\partial Y = [\\frac{\\partial f}{\\partial y_1}, \\frac{\\partial f}{\\partial y_2}]$.\n",
        "\n",
        "If we solve for $\\frac{\\partial f}{\\partial x_1}$, we will find that:\n",
        "$$\\frac{\\partial f}{\\partial x_1}= 2x_1 -2y_1,$$\n",
        "\n",
        "\n",
        "So when $X = [1.0, 3.0]$ and $Y = [3.0, 2.0]$, we can see that ${\\partial f}/ {\\partial x_1} = -4$. \n",
        "\n",
        "In pytorch we can compute all gradients with respect to all variables involved in the computation as follows:"
      ],
      "metadata": {
        "id": "J5UPe9mPGt3Z"
      }
    },
    {
      "cell_type": "code",
      "source": [
        "def f(X, Y):\n",
        "  return torch.sum((X - Y) ** 2)\n",
        "\n",
        "X = torch.tensor([1.0, 3.0], requires_grad = True)\n",
        "Y = torch.tensor([3.0, 2.0], requires_grad = True)\n",
        "\n",
        "out = f(X, Y)\n",
        "\n",
        "out.backward() # Execute chain rule of calculus to find all partial derivatives.\n",
        "\n",
        "print(X.grad) # This should print df/dx_1, df/dx_2\n",
        "#print(Y.grad) # This should print df/dy_1, df/dy_2"
      ],
      "metadata": {
        "colab": {
          "base_uri": "https://localhost:8080/"
        },
        "id": "M06ksJOvDh5V",
        "outputId": "72f78156-f40f-4ccc-82df-1f604a7a7796"
      },
      "execution_count": null,
      "outputs": [
        {
          "output_type": "stream",
          "name": "stdout",
          "text": [
            "tensor([-4.,  2.])\n"
          ]
        }
      ]
    },
    {
      "cell_type": "markdown",
      "source": [
        "**Exercise:** Given the values of $X = [1.0, 3.0]$, $Y = [3.0, 2.0]$ and $Z=[5.0, 1.0]$. Compute using pytorch and print $\\partial f / \\partial z_2$ given that:\n",
        "\n",
        "$$f(X, V) = XX^\\intercal - 2XV^\\intercal + VV^\\intercal,$$\n",
        "$$ V = Y - X + U,$$\n",
        "$$ U = Z - (2X - Z)^2 + (Y - 3Z)^2$$\n",
        "\n",
        "Assume $X$, $Y$, and $Z$ are row-vectors."
      ],
      "metadata": {
        "id": "TyQE880MG4Lu"
      }
    }
  ]
}